{
 "cells": [
  {
   "cell_type": "markdown",
   "metadata": {},
   "source": [
    "MI PRIMER PROGRAMA\n",
    "\n",
    "Para crear este programa, deberás utilizar los conceptos que aprendiste en el último módulo. Usarás Jupyter Notebook en este ejercicio, que es una combinación de texto y código con la que puede interactuar. Finaliza el código siguiente para que el resultado muestre la fecha de hoy."
   ]
  },
  {
   "cell_type": "markdown",
   "metadata": {},
   "source": [
    "SOLUCION: "
   ]
  },
  {
   "cell_type": "code",
   "execution_count": 1,
   "metadata": {},
   "outputs": [
    {
     "name": "stdout",
     "output_type": "stream",
     "text": [
      "El dia de hoy es: 2022-02-07\n"
     ]
    }
   ],
   "source": [
    "#Importacion de libreria\n",
    "from datetime import date as day\n",
    "\n",
    "#asigando condicion\n",
    "dia = day.today()\n",
    "\n",
    "#Salida de datos\n",
    "print('El dia de hoy es: ' + str(dia))"
   ]
  },
  {
   "cell_type": "markdown",
   "metadata": {},
   "source": [
    "CONSTRUIR UN CONVERTIDOR DE UNIDADES\n",
    "\n",
    "El oficial superior> \"Necesito una cosa más: un programa de conversión entre parsecs y años luz. Tener un programa de este tipo podría ser realmente útil en el puente para trazar nuestro curso\".\n",
    "\n",
    "Tú> \"¡Lo haré!\""
   ]
  },
  {
   "cell_type": "markdown",
   "metadata": {},
   "source": [
    "SOLUCION:"
   ]
  },
  {
   "cell_type": "code",
   "execution_count": 21,
   "metadata": {},
   "outputs": [
    {
     "name": "stdout",
     "output_type": "stream",
     "text": [
      "11 parsecs son: 35.877159999999996 años luz\n"
     ]
    }
   ],
   "source": [
    "#Declarando variables\n",
    "parsecs = 11\n",
    "luzyears = parsecs * 3.26156\n",
    "\n",
    "#Salida de datos\n",
    "print(str(parsecs) + \" parsecs son: \" + str(luzyears) + \" años luz\")"
   ]
  }
 ],
 "metadata": {
  "interpreter": {
   "hash": "52f957b7369f82bf9080f89fc4f0b6076bfe87b27ccbd069568d8e1c8c060c14"
  },
  "kernelspec": {
   "display_name": "Python 3.9.10 64-bit (windows store)",
   "language": "python",
   "name": "python3"
  },
  "language_info": {
   "codemirror_mode": {
    "name": "ipython",
    "version": 3
   },
   "file_extension": ".py",
   "mimetype": "text/x-python",
   "name": "python",
   "nbconvert_exporter": "python",
   "pygments_lexer": "ipython3",
   "version": "3.9.10"
  },
  "orig_nbformat": 4
 },
 "nbformat": 4,
 "nbformat_minor": 2
}
